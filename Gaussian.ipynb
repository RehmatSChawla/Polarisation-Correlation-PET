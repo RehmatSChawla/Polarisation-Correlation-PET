{
 "cells": [
  {
   "cell_type": "code",
   "execution_count": 1,
   "metadata": {},
   "outputs": [],
   "source": [
    "import matplotlib.pyplot as plt\n",
    "from matplotlib import rcParams\n",
    "import numpy as np\n"
   ]
  },
  {
   "cell_type": "code",
   "execution_count": 2,
   "metadata": {},
   "outputs": [
    {
     "data": {
      "image/png": "[encoded data removed]",
      "text/plain": [
       "<Figure size 640x480 with 1 Axes>"
      ]
     },
     "metadata": {},
     "output_type": "display_data"
    },
    {
     "data": {
      "text/plain": [
       "<Figure size 200x300 with 0 Axes>"
      ]
     },
     "metadata": {},
     "output_type": "display_data"
    }
   ],
   "source": [
    "u = 20\n",
    "sigma = 7\n",
    "\n",
    "x = np.linspace(0,100,1000)\n",
    "y = np.exp(-(x-u)**2/2/sigma**2)\n",
    "\n",
    "\n",
    "plt.figure(facecolor=\"black\")\n",
    "ax = plt.axes()\n",
    "ax.get_yaxis().set_visible(False)\n",
    "ax.xaxis.label.set_color('white') \n",
    "ax.spines['bottom'].set_color('#ffffff')\n",
    "ax.tick_params(axis='x', colors='white', labelbottom=False)    \n",
    "rcParams['axes.linewidth'] = 3\n",
    "#plt.xticks(c =\"white\")\n",
    "#ax.set_axis_off()\n",
    "ax.set_facecolor(\"black\")\n",
    "ax.plot(x,y,c=\"white\",linewidth=3)\n",
    "plt.figure(figsize = (2,3))\n",
    "plt.savefig(\"Gaussian P\")\n"
   ]
  },
  {
   "cell_type": "code",
   "execution_count": 3,
   "metadata": {},
   "outputs": [],
   "source": [
    "'''\n",
    "TODO\n",
    "[x] Add 3D\n",
    "[] Add time_slice identification to each photon\n",
    "[] Examine data and identify source of abnormally large vectors.\n",
    "[x] Add polarisation\n",
    "[o] Complete compton process\n",
    "    [] Energy change\n",
    "    [] Polarisation change\n",
    "[] Detection process\n",
    "    [] Energy blurring\n",
    "    [] Position blurring\n",
    "[] Pairing and noting event\n",
    "[] \n",
    "'''\n",
    "\n",
    "\n",
    "import numpy as np\n",
    "import vector as vc\n",
    "import scipy as sc\n",
    "import matplotlib.pyplot as plt\n",
    "import copy\n",
    "\n",
    "# Constants\n",
    "hbar = 4.135667696e-15 # eV / Hz\n",
    "# from scipy.constants import hbar\n",
    "c = 299792458 # m/s\n",
    "# I don't think we need to include this since I want the normalised probability distribution.\n",
    "classical_electron_radius = 1 # 2.8179403262e-15 # m\n",
    "\n",
    "# Times and source activities\n",
    "time_slice = 1 # nanoseconds\n",
    "time_window = 10 # nanoseconds\n",
    "total_time = 10**3 # nanoseconds\n",
    "n_windows = total_time//time_window\n",
    "\n",
    "source_activity_slice = 0.8 # nanoBecquerel - disintegrations per nanosecond\n",
    "source_activity_window = source_activity_slice*time_window/time_slice\n",
    "\n",
    "# Compton ring\n",
    "compton_probability = 0.2\n",
    "compton_radius = 100 # mm\n",
    "\n",
    "\n",
    "# Detection Ring\n",
    "\n",
    "def unpack_cart(vector:vc.obj):\n",
    "    return (vector.x, vector.y, vector.z)\n",
    "\n",
    "def cross_product(v1:vc.obj, v2:vc.obj):\n",
    "    if v1==v2:\n",
    "        return 0\n",
    "    elif v1.theta == 0:\n",
    "        cross = v1.cross(v2)\n",
    "\n",
    "# Without polarisation case - incomplete\n",
    "# def Klein_Nishina_Distribution(theta, relative_energy):\n",
    "#     if abs(theta)>np.pi:\n",
    "#         return 0\n",
    "#     elif abs(theta)<=1/np.sqrt(relative_energy):\n",
    "#         return classical_electron_radius**2\n",
    "#     else:\n",
    "#         return\n",
    "\n",
    "# With Polarisation, Klein-Nishima\n",
    "def Differential_Cross_Section(theta, phi, relative_energy):\n",
    "    # Phi has to be relative to polarisation angle\n",
    "    lambda_ratio = 1/(1+relative_energy*(1-np.cos(theta)))\n",
    "    return (classical_electron_radius*lambda_ratio)**2/2*(lambda_ratio+1/lambda_ratio-2*np.sin(theta)**2*np.cos(phi)**2)\n",
    "    \n",
    "def Sampling_Klein_Nishima(relative_energy):\n",
    "    # Choose theta based on Gaussian and phi uniformly\n",
    "    # Do probability check with differential cross section (times dOmega) to and repeat if not true\n",
    "    if relative_energy==1.0:\n",
    "        total_cross_section = 3.608457130285029 # Precaculated for the common case\n",
    "    else:\n",
    "        total_cross_section = sc.integrate.dblquad(lambda theta, phi: Differential_Cross_Section(theta, phi, relative_energy)*np.sin(theta),\n",
    "                                                   0,2*np.pi,\n",
    "                                                   lambda x:0,lambda x:np.pi)[0]\n",
    "    \n",
    "    KN_PDF = lambda theta, phi : Differential_Cross_Section(theta, phi, relative_energy)*np.sin(theta)/total_cross_section\n",
    "    # We want to perform rejection sampling, so we want to find a gaussian which completely covers the PDF\n",
    "    # Furthermore, PDF has max values at phi = pi/2, so we'll just cover that and assume phi is covered uniformly.\n",
    "    \n",
    "    # Finding max of KN_PDF to centre gaussian cover\n",
    "    if relative_energy==1.0:\n",
    "        mean = 0.806\n",
    "        rejection_scale = 0.45 # Precaculated for the common case\n",
    "    else:\n",
    "        check_values_at = np.linspace(0,np.pi/2,20)\n",
    "        max_index = np.argmax(KN_PDF(check_values_at,np.pi/2))\n",
    "        mean = check_values_at[max_index] # Want to find peak of distribution to within 0.15 radians\n",
    "        # sigma^2 = pi/2, mean at peak, scaling constant should be A, A/sqrt(2pisigma^2)=1.2*KN_PDF(mean), and sqrt(2pisigma^2)=1\n",
    "        rejection_scale = 1.2*KN_PDF(mean,np.pi/2)\n",
    "\n",
    "    sigma = np.sqrt(np.pi/2)\n",
    "    # sampling\n",
    "\n",
    "    gaussian = sc.stats.norm(loc = mean, scale = sigma)\n",
    "    \n",
    "    while True:\n",
    "        theta_try = sigma*np.random.randn()+mean\n",
    "        phi_try = np.random.uniform(0,2*np.pi)\n",
    "        p = np.random.uniform(0,rejection_scale*gaussian.pdf(theta_try)/(2*np.pi)) # Max value is cover_PDF(theta)*cover_PDF(phi)\n",
    "        if p<=KN_PDF(theta_try, phi_try):\n",
    "            return (theta_try, phi_try)\n",
    "\n",
    "class Gamma:\n",
    "    def __init__(self, source_pos:vc.obj, source_direction:vc.obj, source_pol:vc.obj):\n",
    "        # Source coordinates and direction, angles in radians\n",
    "        self.source_pos = source_pos\n",
    "        self.source_direction = source_direction\n",
    "        self.source_polarisation = source_pol\n",
    "\n",
    "        # Maybe useful, last/current interaction coordinates and direction\n",
    "        self.last_pos = source_pos\n",
    "        self.direction = source_direction\n",
    "        self.polarisation = source_pol\n",
    "\n",
    "        self.energy = 511e3 # eV\n",
    "        self.compton_happened = False\n",
    "        self.compton_loc:vc.obj\n",
    "    \n",
    "    def frequency(self): # Hz\n",
    "        return self.energy/hbar\n",
    "    \n",
    "    def wavelength(self): # m\n",
    "        return c/self.frequency()\n",
    "\n",
    "    def momentum(self): # eV/c\n",
    "        return self.energy/c\n",
    "    \n",
    "    def setEnergy(self,energy):\n",
    "        self.energy = energy\n",
    "\n",
    "    def compton(self, r:float,debug=False): # Might replace r with full location vector\n",
    "        # Set some variables\n",
    "        self.compton_happened = True\n",
    "        epsilon = self.energy/(511e3)\n",
    "        theta = self.direction.theta\n",
    "        phi = self.direction.phi\n",
    "        self.compton_loc = vc.obj(rho=r,theta=theta, phi=phi)\n",
    "\n",
    "        delta_theta, delta_phi = Sampling_Klein_Nishima(epsilon)\n",
    "        # print(delta_theta,delta_phi)\n",
    "        original_direction = copy.deepcopy(self.direction)\n",
    "        rotation_axis = original_direction.cross(self.polarisation)\n",
    "        # if rotation_axis\n",
    "        if debug:\n",
    "            print(self.direction, self.polarisation, original_direction.cross(self.polarisation))\n",
    "        self.direction = self.direction.rotate_axis(original_direction.cross(self.polarisation),delta_theta)\n",
    "        self.direction = self.direction.rotate_axis(original_direction, delta_phi)\n",
    "\n",
    "        self.energy = self.energy/(1+epsilon*(1-np.cos(delta_theta)))\n",
    "\n",
    "        # In compton, direction changes, energy changes, polarisation changes.\n",
    "        \n",
    "\n",
    "    def detect(self):\n",
    "        pass\n",
    "'''\n",
    "Photon created\n",
    "Pair by identity or location + time? Going with location + time\n",
    "\n",
    "'''\n",
    "\n",
    "hatz = vc.obj(x=0,y=0,z=1)\n",
    "hatx = vc.obj(x=1,y=0,z=0)\n",
    "\n",
    "\n",
    "for window in range(n_windows):\n",
    "    source_activity = int(source_activity_window)\n",
    "    if np.random.random(1)<(source_activity_window - source_activity): # The difference is the probability of one more event this window\n",
    "        source_activity+=1\n",
    "    \n",
    "    photons = np.empty([2*source_activity], dtype = Gamma)\n",
    "    # origins = \n",
    "    directions_theta = np.pi*np.random.random(source_activity)\n",
    "    directions_phi = 2*np.pi*np.random.random(source_activity)\n",
    "    polarisation_phi = 2*np.pi*np.random.random(source_activity)\n",
    "\n",
    "    for i in range(source_activity):\n",
    "        direction = vc.obj(rho=1,theta=directions_theta[i], phi=directions_phi[i])\n",
    "\n",
    "        # Make perpendicular vector for polarisation\n",
    "        polarisation = direction.cross(hatz)\n",
    "        if direction.is_parallel(hatz) or direction.is_antiparallel(hatz):\n",
    "            polarisation = direction.cross(hatx)\n",
    "        # Randomise it\n",
    "        polarisation = polarisation.rotate_axis(direction, polarisation_phi)\n",
    "\n",
    "        photons[2*i] = Gamma(vc.obj(x=0,y=0,z=0),\n",
    "                             direction,\n",
    "                             polarisation)\n",
    "        \n",
    "        # Each event generates two photons back to back and with perpendicular polarisations\n",
    "        photons[2*i+1] = Gamma(vc.obj(x=0,y=0,z=0),\n",
    "                               -direction,\n",
    "                               polarisation.rotate_axis(direction, np.pi/2))\n",
    "    \n",
    "\n",
    "    for i in range(source_activity): # Only the second photon will ever compton scatter, because the distributions are exactly symmetrical\n",
    "        # If compton happening, calculate where, tell compton event to calculate where it's going now.\n",
    "        if np.random.random(1)<compton_probability:\n",
    "            photon = photons[2*i]\n",
    "            # x = photon.x # RN they're all 0, so\n",
    "            # y = photon.y\n",
    "            # z = photon.z\n",
    "            # theta = photon.theta\n",
    "            # phi = photon.phi\n",
    "\n",
    "            # solve (x+r*cos(theta)sin(phi))**2 + (y+r*sin(theta)sin(phi))**2 + (z+r*cos(phi))**2 = compton_r\n",
    "\n",
    "            photon.compton(compton_radius) # Later will make compton location\n",
    "        \n",
    "    \n"
   ]
  },
  {
   "cell_type": "code",
   "execution_count": 20,
   "metadata": {},
   "outputs": [],
   "source": [
    "source_activity = int(source_activity_window)\n",
    "if np.random.random(1)<(source_activity_window - source_activity): # The difference is the probability of one more event this window\n",
    "    source_activity+=1\n",
    "\n",
    "photons = np.empty([2*source_activity], dtype = Gamma)\n",
    "# origins = \n",
    "directions_theta = np.pi*np.random.random(source_activity)+0.00000001\n",
    "directions_phi = 2*np.pi*np.random.random(source_activity)\n",
    "polarisation_phi = 2*np.pi*np.random.random(source_activity)\n",
    "\n",
    "for i in range(source_activity):\n",
    "    direction = vc.obj(rho=1,theta=directions_theta[i], phi=directions_phi[i])\n",
    "\n",
    "    # Make perpendicular vector for polarisation\n",
    "    polarisation = direction.cross(hatz)\n",
    "    if direction.is_parallel(hatz) or direction.is_antiparallel(hatz):\n",
    "        polarisation = direction.cross(hatx)\n",
    "    # Randomise it\n",
    "    polarisation = polarisation.rotate_axis(direction, polarisation_phi)\n",
    "\n",
    "    photons[2*i] = Gamma(vc.obj(x=0,y=0,z=0),\n",
    "                            direction,\n",
    "                            polarisation)\n",
    "    \n",
    "    # Each event generates two photons back to back and with perpendicular polarisations\n",
    "    photons[2*i+1] = Gamma(vc.obj(x=0,y=0,z=0),\n",
    "                            -direction,\n",
    "                            polarisation.rotate_axis(direction, np.pi/2))"
   ]
  },
  {
   "cell_type": "code",
   "execution_count": 21,
   "metadata": {},
   "outputs": [
    {
     "name": "stdout",
     "output_type": "stream",
     "text": [
      "[ 0.31145644 -0.62072085 -0.10329889 -0.63145894  0.87346835  0.46042388\n",
      "  0.76357243  0.11323381]\n"
     ]
    },
    {
     "name": "stderr",
     "output_type": "stream",
     "text": [
      "/opt/homebrew/lib/python3.11/site-packages/numpy/lib/stride_tricks.py:538: VisibleDeprecationWarning: Creating an ndarray from ragged nested sequences (which is a list-or-tuple of lists-or-tuples-or ndarrays with different lengths or shapes) is deprecated. If you meant to do this, you must specify 'dtype=object' when creating the ndarray.\n",
      "  args = [np.array(_m, copy=False, subok=subok) for _m in args]\n"
     ]
    },
    {
     "ename": "ValueError",
     "evalue": "setting an array element with a sequence.",
     "output_type": "error",
     "traceback": [
      "\u001b[0;31m---------------------------------------------------------------------------\u001b[0m",
      "\u001b[0;31mTypeError\u001b[0m                                 Traceback (most recent call last)",
      "\u001b[0;31mTypeError\u001b[0m: only size-1 arrays can be converted to Python scalars",
      "\nThe above exception was the direct cause of the following exception:\n",
      "\u001b[0;31mValueError\u001b[0m                                Traceback (most recent call last)",
      "Cell \u001b[0;32mIn[21], line 47\u001b[0m\n\u001b[1;32m     44\u001b[0m     origins[\u001b[39m2\u001b[39m]\u001b[39m.\u001b[39mappend(photon\u001b[39m.\u001b[39mcompton_loc\u001b[39m.\u001b[39mz)\n\u001b[1;32m     46\u001b[0m \u001b[39mprint\u001b[39m(all_vectors[\u001b[39m0\u001b[39m][\u001b[39m1\u001b[39m])\n\u001b[0;32m---> 47\u001b[0m ax\u001b[39m.\u001b[39;49mquiver(\u001b[39m*\u001b[39;49morigins, \u001b[39m*\u001b[39;49mall_vectors,\n\u001b[1;32m     48\u001b[0m           length\u001b[39m=\u001b[39;49m\u001b[39m1\u001b[39;49m)\n\u001b[1;32m     50\u001b[0m u, v \u001b[39m=\u001b[39m np\u001b[39m.\u001b[39mmgrid[\u001b[39m0\u001b[39m:\u001b[39m2\u001b[39m\u001b[39m*\u001b[39mnp\u001b[39m.\u001b[39mpi:\u001b[39m20\u001b[39mj, \u001b[39m0\u001b[39m:np\u001b[39m.\u001b[39mpi:\u001b[39m10\u001b[39mj]\n\u001b[1;32m     51\u001b[0m x \u001b[39m=\u001b[39m small_radius\u001b[39m*\u001b[39mnp\u001b[39m.\u001b[39mcos(u)\u001b[39m*\u001b[39mnp\u001b[39m.\u001b[39msin(v)\n",
      "File \u001b[0;32m/opt/homebrew/lib/python3.11/site-packages/matplotlib/__init__.py:1442\u001b[0m, in \u001b[0;36m_preprocess_data.<locals>.inner\u001b[0;34m(ax, data, *args, **kwargs)\u001b[0m\n\u001b[1;32m   1439\u001b[0m \u001b[39m@functools\u001b[39m\u001b[39m.\u001b[39mwraps(func)\n\u001b[1;32m   1440\u001b[0m \u001b[39mdef\u001b[39;00m \u001b[39minner\u001b[39m(ax, \u001b[39m*\u001b[39margs, data\u001b[39m=\u001b[39m\u001b[39mNone\u001b[39;00m, \u001b[39m*\u001b[39m\u001b[39m*\u001b[39mkwargs):\n\u001b[1;32m   1441\u001b[0m     \u001b[39mif\u001b[39;00m data \u001b[39mis\u001b[39;00m \u001b[39mNone\u001b[39;00m:\n\u001b[0;32m-> 1442\u001b[0m         \u001b[39mreturn\u001b[39;00m func(ax, \u001b[39m*\u001b[39;49m\u001b[39mmap\u001b[39;49m(sanitize_sequence, args), \u001b[39m*\u001b[39;49m\u001b[39m*\u001b[39;49mkwargs)\n\u001b[1;32m   1444\u001b[0m     bound \u001b[39m=\u001b[39m new_sig\u001b[39m.\u001b[39mbind(ax, \u001b[39m*\u001b[39margs, \u001b[39m*\u001b[39m\u001b[39m*\u001b[39mkwargs)\n\u001b[1;32m   1445\u001b[0m     auto_label \u001b[39m=\u001b[39m (bound\u001b[39m.\u001b[39marguments\u001b[39m.\u001b[39mget(label_namer)\n\u001b[1;32m   1446\u001b[0m                   \u001b[39mor\u001b[39;00m bound\u001b[39m.\u001b[39mkwargs\u001b[39m.\u001b[39mget(label_namer))\n",
      "File \u001b[0;32m/opt/homebrew/lib/python3.11/site-packages/mpl_toolkits/mplot3d/axes3d.py:2616\u001b[0m, in \u001b[0;36mAxes3D.quiver\u001b[0;34m(self, X, Y, Z, U, V, W, length, arrow_length_ratio, pivot, normalize, **kwargs)\u001b[0m\n\u001b[1;32m   2613\u001b[0m     shaft_dt \u001b[39m-\u001b[39m\u001b[39m=\u001b[39m length \u001b[39m/\u001b[39m \u001b[39m2\u001b[39m\n\u001b[1;32m   2615\u001b[0m XYZ \u001b[39m=\u001b[39m np\u001b[39m.\u001b[39mcolumn_stack(input_args[:\u001b[39m3\u001b[39m])\n\u001b[0;32m-> 2616\u001b[0m UVW \u001b[39m=\u001b[39m np\u001b[39m.\u001b[39;49mcolumn_stack(input_args[\u001b[39m3\u001b[39;49m:])\u001b[39m.\u001b[39;49mastype(\u001b[39mfloat\u001b[39;49m)\n\u001b[1;32m   2618\u001b[0m \u001b[39m# Normalize rows of UVW\u001b[39;00m\n\u001b[1;32m   2619\u001b[0m norm \u001b[39m=\u001b[39m np\u001b[39m.\u001b[39mlinalg\u001b[39m.\u001b[39mnorm(UVW, axis\u001b[39m=\u001b[39m\u001b[39m1\u001b[39m)\n",
      "\u001b[0;31mValueError\u001b[0m: setting an array element with a sequence."
     ]
    },
    {
     "data": {
      "image/png": "[encoded data removed]",
      "text/plain": [
       "<Figure size 640x480 with 1 Axes>"
      ]
     },
     "metadata": {},
     "output_type": "display_data"
    }
   ],
   "source": [
    "\n",
    "from mpl_toolkits.mplot3d import axes3d, Axes3D \n",
    "fig = plt.figure()\n",
    "ax = fig.add_subplot(111, projection='3d')\n",
    "# ax2 = fig.add_subplot()\n",
    "\n",
    "\n",
    "n_photons = len(photons)\n",
    "\n",
    "\n",
    "all_vectors = [[],[],[]]\n",
    "origins = [[],[],[]]\n",
    "\n",
    "source_angles=[[],[]]\n",
    "new_angles=[[],[]]\n",
    "compton_location_angles = [[],[]]\n",
    "\n",
    "# print(photons[0].direction.phi)\n",
    "\n",
    "small_radius = 5\n",
    "for i in range(len(photons)):\n",
    "    photon = photons[i]\n",
    "    photon.compton(small_radius)\n",
    "\n",
    "    source_angles[0].append(photon.source_direction.theta)\n",
    "    source_angles[1].append(photon.source_direction.phi)\n",
    "    new_angles[0].append(photon.direction.theta)\n",
    "    new_angles[1].append(photon.direction.phi)\n",
    "    compton_location_angles[0].append(photon.compton_loc.theta)\n",
    "    compton_location_angles[1].append(photon.compton_loc.phi)\n",
    "\n",
    "    all_vectors[0].append(photon.source_direction.x)\n",
    "    origins[0].append(0)\n",
    "    all_vectors[0].append(photon.direction.x)\n",
    "    origins[0].append(photon.compton_loc.x)\n",
    "    \n",
    "    all_vectors[1].append(photon.source_direction.y)\n",
    "    origins[1].append(0)\n",
    "    all_vectors[1].append(photon.direction.y)\n",
    "    origins[1].append(photon.compton_loc.y)\n",
    "\n",
    "    all_vectors[2].append(photon.source_direction.z)\n",
    "    origins[2].append(0)\n",
    "    all_vectors[2].append(photon.direction.z)\n",
    "    origins[2].append(photon.compton_loc.z)\n",
    "\n",
    "print(all_vectors[0][1])\n",
    "ax.quiver(*origins, *all_vectors,\n",
    "          length=1)\n",
    "\n",
    "u, v = np.mgrid[0:2*np.pi:20j, 0:np.pi:10j]\n",
    "x = small_radius*np.cos(u)*np.sin(v)\n",
    "y = small_radius*np.sin(u)*np.sin(v)\n",
    "z = small_radius*np.cos(v)\n",
    "ax.plot_wireframe(x, y, z, color=\"red\", alpha = 0.3)\n",
    "\n",
    "\n",
    "# ax2.scatter(source_angles[0],source_angles[1], c='b')\n",
    "# ax2.scatter(new_angles[0],new_angles[1],c='r')\n",
    "# ax2.scatter(compton_location_angles[0],compton_location_angles[1],c='g')\n",
    "# ax2.xlabel=\"theta\"\n",
    "# ax2.ylabel=\"phi\"\n",
    "# ax.set_xlim3d(-8,8)\n",
    "# ax.set_ylim3d(-8,8)\n",
    "# ax.set_zlim3d(-8,8)\n",
    "\n",
    "plt.show()"
   ]
  },
  {
   "cell_type": "code",
   "execution_count": 22,
   "metadata": {},
   "outputs": [
    {
     "name": "stdout",
     "output_type": "stream",
     "text": [
      "2.418044582139089\n"
     ]
    }
   ],
   "source": [
    "photon = Gamma(vc.obj(x=0,y=0,z=0),\n",
    "               vc.obj(rho=1,theta=np.pi/2,phi=0),\n",
    "               vc.obj(rho=1,theta=1,phi=0))\n",
    "\n"
   ]
  },
  {
   "cell_type": "code",
   "execution_count": 72,
   "metadata": {},
   "outputs": [
    {
     "name": "stdout",
     "output_type": "stream",
     "text": [
      "VectorObject3D(x=0.7645759736877509, y=0.641721842517393, z=0.060138650596088944)\n"
     ]
    }
   ],
   "source": [
    "photon.compton(small_radius)\n",
    "print(photon.direction)"
   ]
  },
  {
   "cell_type": "code",
   "execution_count": 19,
   "metadata": {},
   "outputs": [
    {
     "data": {
      "text/plain": [
       "VectorObject3D(x=0.0, y=-9999.999966666666, z=0.0)"
      ]
     },
     "execution_count": 19,
     "metadata": {},
     "output_type": "execute_result"
    }
   ],
   "source": [
    "vc.obj(rho=1,theta=np.pi/2,phi=0).cross(vc.obj(rho=1,theta=0.0001,phi=0))"
   ]
  },
  {
   "cell_type": "code",
   "execution_count": 17,
   "metadata": {},
   "outputs": [
    {
     "data": {
      "text/plain": [
       "999.9996666666443"
      ]
     },
     "execution_count": 17,
     "metadata": {},
     "output_type": "execute_result"
    }
   ],
   "source": [
    "vc.obj(rho=1,theta=0.001,phi=0).z"
   ]
  }
 ],
 "metadata": {
  "kernelspec": {
   "display_name": "Python 3",
   "language": "python",
   "name": "python3"
  },
  "language_info": {
   "codemirror_mode": {
    "name": "ipython",
    "version": 3
   },
   "file_extension": ".py",
   "mimetype": "text/x-python",
   "name": "python",
   "nbconvert_exporter": "python",
   "pygments_lexer": "ipython3",
   "version": "3.11.2"
  },
  "orig_nbformat": 4,
  "vscode": {
   "interpreter": {
    "hash": "b0fa6594d8f4cbf19f97940f81e996739fb7646882a419484c72d19e05852a7e"
   }
  }
 },
 "nbformat": 4,
 "nbformat_minor": 2
}
